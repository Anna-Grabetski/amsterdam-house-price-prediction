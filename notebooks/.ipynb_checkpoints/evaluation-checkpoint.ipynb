{
 "cells": [
  {
   "cell_type": "code",
   "execution_count": null,
   "id": "801671b4-c497-4897-b30b-59fdb3d76360",
   "metadata": {},
   "outputs": [],
   "source": [
    "import sys, os\n",
    "os.chdir(\"..\")  # перейти из notebooks/ в корень проекта\n",
    "sys.path.append(os.path.abspath(\"src\"))\n",
    "\n",
    "print(\"Working dir:\", os.getcwd())\n",
    "print(\"src in sys.path?\", any(\"src\" in p for p in sys.path))"
   ]
  },
  {
   "cell_type": "code",
   "execution_count": null,
   "id": "e7040af1-c750-40b6-ad01-e37380f6d350",
   "metadata": {},
   "outputs": [],
   "source": [
    "import importlib\n",
    "\n",
    "import preprocessing\n",
    "import features\n",
    "import train\n",
    "import utils\n",
    "\n",
    "importlib.reload(preprocessing)\n",
    "importlib.reload(features)\n",
    "importlib.reload(train)\n",
    "importlib.reload(utils)"
   ]
  },
  {
   "cell_type": "code",
   "execution_count": null,
   "id": "7f1cb8bf-f11c-4e4e-bd88-f02b9a713423",
   "metadata": {
    "vscode": {
     "languageId": "plaintext"
    }
   },
   "outputs": [],
   "source": [
    "import matplotlib.pyplot as plt\n",
    "import seaborn as sns\n",
    "import pandas as pd\n",
    "\n",
    "from utils import load_model\n",
    "from preprocessing import load_data, clean_data, impute_missing, split_data\n",
    "from features import create_house_age, add_price_per_sqm\n",
    "from train import scale_features, train_test_split_data"
   ]
  },
  {
   "cell_type": "code",
   "execution_count": null,
   "id": "e7eafe12-8388-4cbd-8f87-0fcb932552e9",
   "metadata": {
    "vscode": {
     "languageId": "plaintext"
    }
   },
   "outputs": [],
   "source": [
    "# Повторим подготовку"
   ]
  },
  {
   "cell_type": "code",
   "execution_count": null,
   "id": "a8b2aa5c-2fd3-43cc-829d-1238c8b8ec9d",
   "metadata": {
    "vscode": {
     "languageId": "plaintext"
    }
   },
   "outputs": [],
   "source": [
    "df = load_data(\"../data/amsterdam.csv\")\n",
    "df = clean_data(df)\n",
    "df = impute_missing(df, [\"area\", \"rooms\"])\n",
    "df = create_house_age(df, \"year_built\")\n",
    "df = add_price_per_sqm(df, \"price\", \"area\")"
   ]
  },
  {
   "cell_type": "code",
   "execution_count": null,
   "id": "f4d0e71a-c1b2-4d03-84f1-6b461aa38cbb",
   "metadata": {
    "vscode": {
     "languageId": "plaintext"
    }
   },
   "outputs": [],
   "source": [
    "X, y = split_data(df, \"price\")\n",
    "X = scale_features(X, [\"area\", \"rooms\", \"house_age\"])\n",
    "X_train, X_test, y_train, y_test = train_test_split_data(X, y)"
   ]
  },
  {
   "cell_type": "code",
   "execution_count": null,
   "id": "64f0d53a-d293-4974-b4ee-37203fe2925f",
   "metadata": {
    "vscode": {
     "languageId": "plaintext"
    }
   },
   "outputs": [],
   "source": [
    "model = load_model(\"../models/linreg.joblib\")\n",
    "y_pred = model.predict(X_test)"
   ]
  },
  {
   "cell_type": "code",
   "execution_count": null,
   "id": "7aca3956-14fc-4332-957b-790402ff8f18",
   "metadata": {
    "vscode": {
     "languageId": "plaintext"
    }
   },
   "outputs": [],
   "source": [
    "# График 1: Реальные vs предсказанные"
   ]
  },
  {
   "cell_type": "code",
   "execution_count": null,
   "id": "702932e2-348e-4072-ae2d-59baa54d6357",
   "metadata": {
    "vscode": {
     "languageId": "plaintext"
    }
   },
   "outputs": [],
   "source": [
    "plt.figure(figsize=(6,6))\n",
    "sns.scatterplot(x=y_test, y=y_pred)\n",
    "plt.plot([y_test.min(), y_test.max()], [y_test.min(), y_test.max()], color='red', linestyle='--')\n",
    "plt.xlabel(\"Реальные значения\")\n",
    "plt.ylabel(\"Предсказания\")\n",
    "plt.title(\"Реальные vs Предсказанные значения\")\n",
    "plt.show()"
   ]
  },
  {
   "cell_type": "code",
   "execution_count": null,
   "id": "959a659f-d0f7-4bd3-a1ae-41edcb04f428",
   "metadata": {
    "vscode": {
     "languageId": "plaintext"
    }
   },
   "outputs": [],
   "source": [
    "# График 2: Остатки (residuals)"
   ]
  },
  {
   "cell_type": "code",
   "execution_count": null,
   "id": "bfbe183a-3110-4a4e-84a2-e071f815e11e",
   "metadata": {
    "vscode": {
     "languageId": "plaintext"
    }
   },
   "outputs": [],
   "source": [
    "residuals = y_test - y_pred\n",
    "sns.histplot(residuals, bins=30)\n",
    "plt.title(\"Гистограмма ошибок модели (residuals)\")\n",
    "plt.xlabel(\"Ошибка\")\n",
    "plt.ylabel(\"Количество\")\n",
    "plt.show()"
   ]
  }
 ],
 "metadata": {
  "kernelspec": {
   "display_name": "Python 3 (ipykernel)",
   "language": "python",
   "name": "python3"
  },
  "language_info": {
   "codemirror_mode": {
    "name": "ipython",
    "version": 3
   },
   "file_extension": ".py",
   "mimetype": "text/x-python",
   "name": "python",
   "nbconvert_exporter": "python",
   "pygments_lexer": "ipython3",
   "version": "3.12.0"
  }
 },
 "nbformat": 4,
 "nbformat_minor": 5
}
